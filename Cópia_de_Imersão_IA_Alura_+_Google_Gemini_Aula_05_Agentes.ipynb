{
  "nbformat": 4,
  "nbformat_minor": 0,
  "metadata": {
    "colab": {
      "provenance": [],
      "include_colab_link": true
    },
    "kernelspec": {
      "name": "python3",
      "display_name": "Python 3"
    },
    "language_info": {
      "name": "python"
    }
  },
  "cells": [
    {
      "cell_type": "markdown",
      "metadata": {
        "id": "view-in-github",
        "colab_type": "text"
      },
      "source": [
        "<a href=\"https://colab.research.google.com/github/JeffRubens/GitHub/blob/main/C%C3%B3pia_de_Imers%C3%A3o_IA_Alura_%2B_Google_Gemini_Aula_05_Agentes.ipynb\" target=\"_parent\"><img src=\"https://colab.research.google.com/assets/colab-badge.svg\" alt=\"Open In Colab\"/></a>"
      ]
    },
    {
      "cell_type": "code",
      "source": [
        "%pip -q install google-genai"
      ],
      "metadata": {
        "id": "UCCbECexLk_h"
      },
      "execution_count": 1,
      "outputs": []
    },
    {
      "cell_type": "code",
      "source": [
        "# Configura a API Key do Google Gemini\n",
        "\n",
        "import os\n",
        "from google.colab import userdata\n",
        "\n",
        "os.environ[\"GOOGLE_API_KEY\"] = userdata.get('GOOGLE_API_KEY')"
      ],
      "metadata": {
        "id": "NfCqHo1tLk8P"
      },
      "execution_count": 2,
      "outputs": []
    },
    {
      "cell_type": "code",
      "source": [
        "# Configura o cliente da SDK do Gemini\n",
        "\n",
        "from google import genai\n",
        "\n",
        "client = genai.Client()\n",
        "\n",
        "MODEL_ID = \"gemini-2.0-flash\""
      ],
      "metadata": {
        "id": "bV4w0H5TLk5g"
      },
      "execution_count": 3,
      "outputs": []
    },
    {
      "cell_type": "code",
      "source": [
        "# Pergunta ao Gemini uma informação mais recente que seu conhecimento\n",
        "\n",
        "from IPython.display import HTML, Markdown\n",
        "\n",
        "# Perguntar pro modelo quando é a próxima imersão de IA ###############################################\n",
        "resposta = client.models.generate_content(\n",
        "    model=MODEL_ID,\n",
        "    contents='Quando é a próxima Imersão IA com Google Gemini da Alura?',\n",
        ")\n",
        "# Exibe a resposta na tela\n",
        "display(Markdown(f\"Resposta:\\n {resposta.text}\"))"
      ],
      "metadata": {
        "id": "HwVP7Xi34Zuw",
        "colab": {
          "base_uri": "https://localhost:8080/",
          "height": 104
        },
        "outputId": "1dfde213-5018-4fa4-acdb-8d5fbabf2bba"
      },
      "execution_count": 4,
      "outputs": [
        {
          "output_type": "display_data",
          "data": {
            "text/plain": [
              "<IPython.core.display.Markdown object>"
            ],
            "text/markdown": "Resposta:\n A Alura não tem uma data fixa para a Imersão IA com Google Gemini. Para saber quando será a próxima edição, o ideal é:\n\n*   **Acompanhar as redes sociais e o site da Alura:** Eles costumam anunciar novos cursos e imersões por lá.\n*   **Verificar a página de cursos de IA da Alura:** Veja se a imersão já está listada com uma data prevista.\n*   **Entrar em contato com a Alura:** Você pode perguntar diretamente para a equipe deles sobre a previsão da próxima Imersão."
          },
          "metadata": {}
        }
      ]
    },
    {
      "cell_type": "code",
      "source": [
        "# Pergunta ao Gemini uma informação utilizando a busca do Google como contexto\n",
        "\n",
        "response = client.models.generate_content(\n",
        "    model=MODEL_ID,\n",
        "    contents='Quando é a próxima Imersão IA com Google Gemini da Alura?',\n",
        "    # Inserir a tool de busca do Google ###############################################\n",
        "    config={'tools': [{'google_search': {}}]}\n",
        ")\n",
        "\n",
        "# Exibe a resposta na tela\n",
        "display(Markdown(f\"Resposta:\\n {response.text}\"))"
      ],
      "metadata": {
        "id": "yXaZd7iZ4ftw",
        "colab": {
          "base_uri": "https://localhost:8080/",
          "height": 64
        },
        "outputId": "d333e469-ab2f-44e1-aee3-7718d34b43f1"
      },
      "execution_count": 7,
      "outputs": [
        {
          "output_type": "display_data",
          "data": {
            "text/plain": [
              "<IPython.core.display.Markdown object>"
            ],
            "text/markdown": "Resposta:\n A próxima Imersão IA com Google Gemini da Alura acontecerá entre os dias **12 e 16 de maio de 2025.** As inscrições estão abertas e podem ser feitas no site da Alura. O curso é gratuito e online, e ao final você recebe um certificado Alura + Google.\n"
          },
          "metadata": {}
        }
      ]
    },
    {
      "cell_type": "code",
      "source": [
        "# Exibe a busca\n",
        "print(f\"Busca realizada: {response.candidates[0].grounding_metadata.web_search_queries}\")\n",
        "# Exibe as URLs nas quais ele se baseou\n",
        "print(f\"Páginas utilizadas na resposta: {', '.join([site.web.title for site in response.candidates[0].grounding_metadata.grounding_chunks])}\")\n",
        "print()\n",
        "display(HTML(response.candidates[0].grounding_metadata.search_entry_point.rendered_content))"
      ],
      "metadata": {
        "id": "xHSNlTd84heJ",
        "colab": {
          "base_uri": "https://localhost:8080/",
          "height": 117
        },
        "outputId": "1c1fb217-4966-4273-b75e-6a3e93b0b7bb"
      },
      "execution_count": 8,
      "outputs": [
        {
          "output_type": "stream",
          "name": "stdout",
          "text": [
            "Busca realizada: ['próxima imersão IA Alura Google Gemini', 'Alura Imersão IA Google Gemini datas']\n",
            "Páginas utilizadas na resposta: eucapacito.com.br, alura.com.br, educacao.mg.gov.br\n",
            "\n"
          ]
        },
        {
          "output_type": "display_data",
          "data": {
            "text/plain": [
              "<IPython.core.display.HTML object>"
            ],
            "text/html": [
              "<style>\n",
              ".container {\n",
              "  align-items: center;\n",
              "  border-radius: 8px;\n",
              "  display: flex;\n",
              "  font-family: Google Sans, Roboto, sans-serif;\n",
              "  font-size: 14px;\n",
              "  line-height: 20px;\n",
              "  padding: 8px 12px;\n",
              "}\n",
              ".chip {\n",
              "  display: inline-block;\n",
              "  border: solid 1px;\n",
              "  border-radius: 16px;\n",
              "  min-width: 14px;\n",
              "  padding: 5px 16px;\n",
              "  text-align: center;\n",
              "  user-select: none;\n",
              "  margin: 0 8px;\n",
              "  -webkit-tap-highlight-color: transparent;\n",
              "}\n",
              ".carousel {\n",
              "  overflow: auto;\n",
              "  scrollbar-width: none;\n",
              "  white-space: nowrap;\n",
              "  margin-right: -12px;\n",
              "}\n",
              ".headline {\n",
              "  display: flex;\n",
              "  margin-right: 4px;\n",
              "}\n",
              ".gradient-container {\n",
              "  position: relative;\n",
              "}\n",
              ".gradient {\n",
              "  position: absolute;\n",
              "  transform: translate(3px, -9px);\n",
              "  height: 36px;\n",
              "  width: 9px;\n",
              "}\n",
              "@media (prefers-color-scheme: light) {\n",
              "  .container {\n",
              "    background-color: #fafafa;\n",
              "    box-shadow: 0 0 0 1px #0000000f;\n",
              "  }\n",
              "  .headline-label {\n",
              "    color: #1f1f1f;\n",
              "  }\n",
              "  .chip {\n",
              "    background-color: #ffffff;\n",
              "    border-color: #d2d2d2;\n",
              "    color: #5e5e5e;\n",
              "    text-decoration: none;\n",
              "  }\n",
              "  .chip:hover {\n",
              "    background-color: #f2f2f2;\n",
              "  }\n",
              "  .chip:focus {\n",
              "    background-color: #f2f2f2;\n",
              "  }\n",
              "  .chip:active {\n",
              "    background-color: #d8d8d8;\n",
              "    border-color: #b6b6b6;\n",
              "  }\n",
              "  .logo-dark {\n",
              "    display: none;\n",
              "  }\n",
              "  .gradient {\n",
              "    background: linear-gradient(90deg, #fafafa 15%, #fafafa00 100%);\n",
              "  }\n",
              "}\n",
              "@media (prefers-color-scheme: dark) {\n",
              "  .container {\n",
              "    background-color: #1f1f1f;\n",
              "    box-shadow: 0 0 0 1px #ffffff26;\n",
              "  }\n",
              "  .headline-label {\n",
              "    color: #fff;\n",
              "  }\n",
              "  .chip {\n",
              "    background-color: #2c2c2c;\n",
              "    border-color: #3c4043;\n",
              "    color: #fff;\n",
              "    text-decoration: none;\n",
              "  }\n",
              "  .chip:hover {\n",
              "    background-color: #353536;\n",
              "  }\n",
              "  .chip:focus {\n",
              "    background-color: #353536;\n",
              "  }\n",
              "  .chip:active {\n",
              "    background-color: #464849;\n",
              "    border-color: #53575b;\n",
              "  }\n",
              "  .logo-light {\n",
              "    display: none;\n",
              "  }\n",
              "  .gradient {\n",
              "    background: linear-gradient(90deg, #1f1f1f 15%, #1f1f1f00 100%);\n",
              "  }\n",
              "}\n",
              "</style>\n",
              "<div class=\"container\">\n",
              "  <div class=\"headline\">\n",
              "    <svg class=\"logo-light\" width=\"18\" height=\"18\" viewBox=\"9 9 35 35\" fill=\"none\" xmlns=\"http://www.w3.org/2000/svg\">\n",
              "      <path fill-rule=\"evenodd\" clip-rule=\"evenodd\" d=\"M42.8622 27.0064C42.8622 25.7839 42.7525 24.6084 42.5487 23.4799H26.3109V30.1568H35.5897C35.1821 32.3041 33.9596 34.1222 32.1258 35.3448V39.6864H37.7213C40.9814 36.677 42.8622 32.2571 42.8622 27.0064V27.0064Z\" fill=\"#4285F4\"/>\n",
              "      <path fill-rule=\"evenodd\" clip-rule=\"evenodd\" d=\"M26.3109 43.8555C30.9659 43.8555 34.8687 42.3195 37.7213 39.6863L32.1258 35.3447C30.5898 36.3792 28.6306 37.0061 26.3109 37.0061C21.8282 37.0061 18.0195 33.9811 16.6559 29.906H10.9194V34.3573C13.7563 39.9841 19.5712 43.8555 26.3109 43.8555V43.8555Z\" fill=\"#34A853\"/>\n",
              "      <path fill-rule=\"evenodd\" clip-rule=\"evenodd\" d=\"M16.6559 29.8904C16.3111 28.8559 16.1074 27.7588 16.1074 26.6146C16.1074 25.4704 16.3111 24.3733 16.6559 23.3388V18.8875H10.9194C9.74388 21.2072 9.06992 23.8247 9.06992 26.6146C9.06992 29.4045 9.74388 32.022 10.9194 34.3417L15.3864 30.8621L16.6559 29.8904V29.8904Z\" fill=\"#FBBC05\"/>\n",
              "      <path fill-rule=\"evenodd\" clip-rule=\"evenodd\" d=\"M26.3109 16.2386C28.85 16.2386 31.107 17.1164 32.9095 18.8091L37.8466 13.8719C34.853 11.082 30.9659 9.3736 26.3109 9.3736C19.5712 9.3736 13.7563 13.245 10.9194 18.8875L16.6559 23.3388C18.0195 19.2636 21.8282 16.2386 26.3109 16.2386V16.2386Z\" fill=\"#EA4335\"/>\n",
              "    </svg>\n",
              "    <svg class=\"logo-dark\" width=\"18\" height=\"18\" viewBox=\"0 0 48 48\" xmlns=\"http://www.w3.org/2000/svg\">\n",
              "      <circle cx=\"24\" cy=\"23\" fill=\"#FFF\" r=\"22\"/>\n",
              "      <path d=\"M33.76 34.26c2.75-2.56 4.49-6.37 4.49-11.26 0-.89-.08-1.84-.29-3H24.01v5.99h8.03c-.4 2.02-1.5 3.56-3.07 4.56v.75l3.91 2.97h.88z\" fill=\"#4285F4\"/>\n",
              "      <path d=\"M15.58 25.77A8.845 8.845 0 0 0 24 31.86c1.92 0 3.62-.46 4.97-1.31l4.79 3.71C31.14 36.7 27.65 38 24 38c-5.93 0-11.01-3.4-13.45-8.36l.17-1.01 4.06-2.85h.8z\" fill=\"#34A853\"/>\n",
              "      <path d=\"M15.59 20.21a8.864 8.864 0 0 0 0 5.58l-5.03 3.86c-.98-2-1.53-4.25-1.53-6.64 0-2.39.55-4.64 1.53-6.64l1-.22 3.81 2.98.22 1.08z\" fill=\"#FBBC05\"/>\n",
              "      <path d=\"M24 14.14c2.11 0 4.02.75 5.52 1.98l4.36-4.36C31.22 9.43 27.81 8 24 8c-5.93 0-11.01 3.4-13.45 8.36l5.03 3.85A8.86 8.86 0 0 1 24 14.14z\" fill=\"#EA4335\"/>\n",
              "    </svg>\n",
              "    <div class=\"gradient-container\"><div class=\"gradient\"></div></div>\n",
              "  </div>\n",
              "  <div class=\"carousel\">\n",
              "    <a class=\"chip\" href=\"https://vertexaisearch.cloud.google.com/grounding-api-redirect/AbF9wXEmaCqBN73oIyraFv1C36reTHteoreuYmf-fFUNa1kT1-0ai0zmGzFEtepFa9ezM6Eml_OM5lCKgxLg3smv9y1RigbeuFuGz1slE_G3qU2yvXcB5v3O5vBj9dLm9x0vU8xtEUA_02i4fBSuGISlpB7UL1lf9XetGJAL30PqYHDGJawKNOYuVXWXpRMNfHaElO_iQmn2kOktiyNfq1T1q-SC_Q05jADtFPnt9tKUvc-Wq4fUiA==\">próxima imersão IA Alura Google Gemini</a>\n",
              "    <a class=\"chip\" href=\"https://vertexaisearch.cloud.google.com/grounding-api-redirect/AbF9wXGq_YucOphjPAXm2AtmVaPLm7cpUbf-wnlCfEyrat6-XKcFLofUvIuY9bl8R6KbpEa4qmqmyCYuenTFXjZ7rn13fBR1GL4uSLUpYWjwfcngxQXHhLu1xOJA-phYhJ3jo8AYkTiPAwwy6rdYVJaXZvF5RRD4bo1ZOU6CWK48wu0lkxTj9nUMBIidcwf4IAlWoprLG5wgYr9M4coAecSlBOoOPQOXDtPNZ-vQYDJD\">Alura Imersão IA Google Gemini datas</a>\n",
              "  </div>\n",
              "</div>\n"
            ]
          },
          "metadata": {}
        }
      ]
    },
    {
      "cell_type": "code",
      "source": [
        "# Instalar Framework ADK de agentes do Google ################################################\n",
        "#!pip install google-generative-ai-agent-framework\n",
        "!pip install -q google-adk"
      ],
      "metadata": {
        "id": "hvZ3UnPI4jhJ",
        "colab": {
          "base_uri": "https://localhost:8080/"
        },
        "outputId": "415c89b9-8cd7-420d-eb77-ee75b5091f04"
      },
      "execution_count": 9,
      "outputs": [
        {
          "output_type": "stream",
          "name": "stdout",
          "text": [
            "\u001b[?25l   \u001b[90m━━━━━━━━━━━━━━━━━━━━━━━━━━━━━━━━━━━━━━━━\u001b[0m \u001b[32m0.0/1.2 MB\u001b[0m \u001b[31m?\u001b[0m eta \u001b[36m-:--:--\u001b[0m\r\u001b[2K   \u001b[91m━━━━━━━━━━━━━━━━━━━━━━━━━━━━━━━━━━━━━\u001b[0m\u001b[91m╸\u001b[0m\u001b[90m━━\u001b[0m \u001b[32m1.1/1.2 MB\u001b[0m \u001b[31m33.4 MB/s\u001b[0m eta \u001b[36m0:00:01\u001b[0m\r\u001b[2K   \u001b[90m━━━━━━━━━━━━━━━━━━━━━━━━━━━━━━━━━━━━━━━━\u001b[0m \u001b[32m1.2/1.2 MB\u001b[0m \u001b[31m23.2 MB/s\u001b[0m eta \u001b[36m0:00:00\u001b[0m\n",
            "\u001b[?25h\u001b[?25l   \u001b[90m━━━━━━━━━━━━━━━━━━━━━━━━━━━━━━━━━━━━━━━━\u001b[0m \u001b[32m0.0/232.1 kB\u001b[0m \u001b[31m?\u001b[0m eta \u001b[36m-:--:--\u001b[0m\r\u001b[2K   \u001b[90m━━━━━━━━━━━━━━━━━━━━━━━━━━━━━━━━━━━━━━━━\u001b[0m \u001b[32m232.1/232.1 kB\u001b[0m \u001b[31m16.0 MB/s\u001b[0m eta \u001b[36m0:00:00\u001b[0m\n",
            "\u001b[?25h\u001b[?25l   \u001b[90m━━━━━━━━━━━━━━━━━━━━━━━━━━━━━━━━━━━━━━━━\u001b[0m \u001b[32m0.0/95.2 kB\u001b[0m \u001b[31m?\u001b[0m eta \u001b[36m-:--:--\u001b[0m\r\u001b[2K   \u001b[90m━━━━━━━━━━━━━━━━━━━━━━━━━━━━━━━━━━━━━━━━\u001b[0m \u001b[32m95.2/95.2 kB\u001b[0m \u001b[31m9.1 MB/s\u001b[0m eta \u001b[36m0:00:00\u001b[0m\n",
            "\u001b[2K   \u001b[90m━━━━━━━━━━━━━━━━━━━━━━━━━━━━━━━━━━━━━━━━\u001b[0m \u001b[32m217.1/217.1 kB\u001b[0m \u001b[31m16.6 MB/s\u001b[0m eta \u001b[36m0:00:00\u001b[0m\n",
            "\u001b[2K   \u001b[90m━━━━━━━━━━━━━━━━━━━━━━━━━━━━━━━━━━━━━━━━\u001b[0m \u001b[32m334.1/334.1 kB\u001b[0m \u001b[31m27.5 MB/s\u001b[0m eta \u001b[36m0:00:00\u001b[0m\n",
            "\u001b[2K   \u001b[90m━━━━━━━━━━━━━━━━━━━━━━━━━━━━━━━━━━━━━━━━\u001b[0m \u001b[32m125.1/125.1 kB\u001b[0m \u001b[31m10.1 MB/s\u001b[0m eta \u001b[36m0:00:00\u001b[0m\n",
            "\u001b[2K   \u001b[90m━━━━━━━━━━━━━━━━━━━━━━━━━━━━━━━━━━━━━━━━\u001b[0m \u001b[32m65.8/65.8 kB\u001b[0m \u001b[31m5.1 MB/s\u001b[0m eta \u001b[36m0:00:00\u001b[0m\n",
            "\u001b[2K   \u001b[90m━━━━━━━━━━━━━━━━━━━━━━━━━━━━━━━━━━━━━━━━\u001b[0m \u001b[32m119.0/119.0 kB\u001b[0m \u001b[31m9.5 MB/s\u001b[0m eta \u001b[36m0:00:00\u001b[0m\n",
            "\u001b[2K   \u001b[90m━━━━━━━━━━━━━━━━━━━━━━━━━━━━━━━━━━━━━━━━\u001b[0m \u001b[32m194.9/194.9 kB\u001b[0m \u001b[31m13.8 MB/s\u001b[0m eta \u001b[36m0:00:00\u001b[0m\n",
            "\u001b[2K   \u001b[90m━━━━━━━━━━━━━━━━━━━━━━━━━━━━━━━━━━━━━━━━\u001b[0m \u001b[32m62.5/62.5 kB\u001b[0m \u001b[31m4.8 MB/s\u001b[0m eta \u001b[36m0:00:00\u001b[0m\n",
            "\u001b[2K   \u001b[90m━━━━━━━━━━━━━━━━━━━━━━━━━━━━━━━━━━━━━━━━\u001b[0m \u001b[32m103.3/103.3 kB\u001b[0m \u001b[31m7.4 MB/s\u001b[0m eta \u001b[36m0:00:00\u001b[0m\n",
            "\u001b[2K   \u001b[90m━━━━━━━━━━━━━━━━━━━━━━━━━━━━━━━━━━━━━━━━\u001b[0m \u001b[32m44.4/44.4 kB\u001b[0m \u001b[31m3.7 MB/s\u001b[0m eta \u001b[36m0:00:00\u001b[0m\n",
            "\u001b[2K   \u001b[90m━━━━━━━━━━━━━━━━━━━━━━━━━━━━━━━━━━━━━━━━\u001b[0m \u001b[32m72.0/72.0 kB\u001b[0m \u001b[31m6.2 MB/s\u001b[0m eta \u001b[36m0:00:00\u001b[0m\n",
            "\u001b[?25h"
          ]
        }
      ]
    },
    {
      "cell_type": "code",
      "execution_count": 10,
      "metadata": {
        "id": "aePV2bdfDeoW"
      },
      "outputs": [],
      "source": [
        "from google.adk.agents import Agent\n",
        "from google.adk.runners import Runner\n",
        "from google.adk.sessions import InMemorySessionService\n",
        "from google.adk.tools import google_search\n",
        "from google.genai import types  # Para criar conteúdos (Content e Part)\n",
        "from datetime import date\n",
        "import textwrap # Para formatar melhor a saída de texto\n",
        "from IPython.display import display, Markdown # Para exibir texto formatado no Colab\n",
        "import requests # Para fazer requisições HTTP\n",
        "import warnings\n",
        "\n",
        "warnings.filterwarnings(\"ignore\")"
      ]
    },
    {
      "cell_type": "code",
      "source": [
        "# Função auxiliar que envia uma mensagem para um agente via Runner e retorna a resposta final\n",
        "def call_agent(agent: Agent, message_text: str) -> str:\n",
        "    # Cria um serviço de sessão em memória\n",
        "    session_service = InMemorySessionService()\n",
        "    # Cria uma nova sessão (você pode personalizar os IDs conforme necessário)\n",
        "    session = session_service.create_session(app_name=agent.name, user_id=\"user1\", session_id=\"session1\")\n",
        "    # Cria um Runner para o agente\n",
        "    runner = Runner(agent=agent, app_name=agent.name, session_service=session_service)\n",
        "    # Cria o conteúdo da mensagem de entrada\n",
        "    content = types.Content(role=\"user\", parts=[types.Part(text=message_text)])\n",
        "\n",
        "    final_response = \"\"\n",
        "    # Itera assincronamente pelos eventos retornados durante a execução do agente\n",
        "    for event in runner.run(user_id=\"user1\", session_id=\"session1\", new_message=content):\n",
        "        if event.is_final_response():\n",
        "          for part in event.content.parts:\n",
        "            if part.text is not None:\n",
        "              final_response += part.text\n",
        "              final_response += \"\\n\"\n",
        "    return final_response"
      ],
      "metadata": {
        "id": "_xP4lWhsS5ko"
      },
      "execution_count": 11,
      "outputs": []
    },
    {
      "cell_type": "code",
      "source": [
        "# Função auxiliar para exibir texto formatado em Markdown no Colab\n",
        "def to_markdown(text):\n",
        "  text = text.replace('•', '  *')\n",
        "  return Markdown(textwrap.indent(text, '> ', predicate=lambda _: True))"
      ],
      "metadata": {
        "id": "8dosiodaxfFR"
      },
      "execution_count": 12,
      "outputs": []
    },
    {
      "cell_type": "code",
      "source": [
        "##########################################\n",
        "# --- Agente 1: Buscador de Notícias --- #\n",
        "##########################################\n",
        "def agente_buscador(topico, data_de_hoje):\n",
        "    buscador = Agent(\n",
        "        name=\"agente_buscador\",\n",
        "        model=\"gemini-2.0-flash\",\n",
        "        instruction=\"\"\"\n",
        "        Você é um assistente de pesquisa. A sua tarefa é usar a ferramenta de busca do Google (google_search)\n",
        "        para recuperar as últimas notícias de lançamentos muito relevantes sobre o tópico abaixo.\n",
        "        Foque em no máximo 5 lançamentos relevantes, com base na quantidade e entusiasmo das notícias sobre ele.\n",
        "        Se um tema tiver poucas notícias ou reações entusiasmadas, é possível que ele não seja tão relevante assim\n",
        "        e pode ser substituído por outro que tenha mais.\n",
        "        Esses lançamentos relevantes devem ser atuais, de no máximo um mês antes a data de hoje.\n",
        "        \"\"\",\n",
        "        description='Agente que busca informação no Google',\n",
        "        tools=[google_search]\n",
        "    )\n",
        "    entrada_do_agente_buscador = f\"Tópico: {topico}\\nData de hoje: {data_de_hoje}\"\n",
        "    # Executa o agente\n",
        "    lancamentos_buscados = call_agent(buscador, entrada_do_agente_buscador)\n",
        "    return lancamentos_buscados"
      ],
      "metadata": {
        "id": "o8bqIfi_DyH8"
      },
      "execution_count": 20,
      "outputs": []
    },
    {
      "cell_type": "code",
      "source": [
        "################################################\n",
        "# --- Agente 2: Planejador de posts --- #\n",
        "################################################\n",
        "def agente_planejador(topico, lancamentos_buscados):\n",
        "    planejador = Agent(\n",
        "        name=\"agente_planejador\",\n",
        "        model=\"gemini-2.0-flash\",\n",
        "        # Inserir as instruções do Agente Planejador #################################################\n",
        "        instruction=\"\"\"\n",
        "        Você é um planejador de conteúdo, especialista em redes sociais. Com base na lista de lançamentos mais\n",
        "        recentes e relevantes buscador, você deve:\n",
        "        Usar a ferramenta de busca do google (google_search) para criar um plano sobre quais são os pontos mais\n",
        "        relevantes que pederíamos abordar em um post sobre cada um deles. Você também pode usar o (google_search)\n",
        "        para encontrar mais informações sobre os temas e aprofundar.\n",
        "        Ao final, você irá escolher o tema mais relevante entre eles com base nas suas pesquisas e e retornar esse\n",
        "        tema, seus pontos mais relevantes e um plano com os assuntos a serem abordados no post que será criado posteriormente.\n",
        "        \"\"\",\n",
        "        description=\"Agente que planeja posts\",\n",
        "        tools=[google_search]\n",
        "    )\n",
        "\n",
        "    entrada_do_agente_planejador = f\"Tópico:{topico}\\nLançamentos buscados: {lancamentos_buscados}\"\n",
        "    # Executa o agente\n",
        "    plano_do_post = call_agent(planejador, entrada_do_agente_planejador)\n",
        "    return plano_do_post"
      ],
      "metadata": {
        "id": "y3VO1uo5_ghO"
      },
      "execution_count": 17,
      "outputs": []
    },
    {
      "cell_type": "code",
      "source": [
        "######################################\n",
        "# --- Agente 3: Redator do Post --- #\n",
        "######################################\n",
        "def agente_redator(topico, plano_de_post):\n",
        "    redator = Agent(\n",
        "        name=\"agente_redator\",\n",
        "        model=\"gemini-2.0-flash\",\n",
        "        instruction=\"\"\"\n",
        "            Você é um Redator Criativo especializado em criar posts virais para redes sociais.\n",
        "            Você escreve posts para a empresa Alura, a maior escola online de tecnologia do Brasil.\n",
        "            Utilize o tema fornecido no plano de post e os pontos mais relevantes fornecidos e, com base nisso,\n",
        "            escreva um rascunho de post para Instagram sobre o tema indicado.\n",
        "            O post deve ser engajador, informativo, com linguagem simples e incluir 2 a 4 hashtags no final.\n",
        "            \"\"\",\n",
        "        description=\"Agente redator de posts engajadores para Instagram\"\n",
        "    )\n",
        "    entrada_do_agente_redator = f\"Tópico: {topico}\\nPlano de post: {plano_de_post}\"\n",
        "    # Executa o agente\n",
        "    rascunho = call_agent(redator, entrada_do_agente_redator)\n",
        "    return rascunho"
      ],
      "metadata": {
        "id": "uOqlg2TRLVh1"
      },
      "execution_count": 31,
      "outputs": []
    },
    {
      "cell_type": "code",
      "source": [
        "##########################################\n",
        "# --- Agente 4: Revisor de Qualidade --- #\n",
        "##########################################\n",
        "def agente_revisor(topico, rascunho_gerado):\n",
        "    revisor = Agent(\n",
        "        name=\"agente_revisor\",\n",
        "        model=\"gemini-2.0-flash\",\n",
        "        instruction=\"\"\"\n",
        "            Você é um Editor e Revisor de Conteúdo meticuloso, especializado em posts para redes sociais, com foco no Instagram.\n",
        "            Por ter um público jovem, entre 18 e 30 anos, use um tom de escrita adequado.\n",
        "            Revise o rascunho de post de Instagram abaixo sobre o tópico indicado, verificando clareza, concisão, correção e tom.\n",
        "            Se o rascunho estiver bom, responda apenas 'O rascunho está ótimo e pronto para publicar!'.\n",
        "            Caso haja problemas, aponte-os e sugira melhorias.\n",
        "            \"\"\",\n",
        "        description=\"Agente revisor de post para redes sociais.\"\n",
        "    )\n",
        "    entrada_do_agente_revisor = f\"Tópico: {topico}\\nRascunho: {rascunho_gerado}\"\n",
        "    # Executa o agente\n",
        "    texto_revisado = call_agent(revisor, entrada_do_agente_revisor)\n",
        "    return texto_revisado"
      ],
      "metadata": {
        "id": "_aTb1SdkLeT6"
      },
      "execution_count": 32,
      "outputs": []
    },
    {
      "cell_type": "code",
      "source": [
        "data_de_hoje = date.today().strftime(\"%d/%m/%Y\")\n",
        "\n",
        "print(\"🚀 Iniciando o Sistema de Criação de Posts para Instagram com 4 Agentes 🚀\")\n",
        "\n",
        "# --- Obter o Tópico do Usuário ---\n",
        "topico = input(\"❓ Por favor, digite o TÓPICO sobre o qual você quer criar o post de tendências: \")\n",
        "\n",
        "# Inserir lógica do sistema de agentes ################################################\n",
        "if not topico:\n",
        "  print(\"Por favor, digite um tópico válido.\")\n",
        "else:\n",
        "  print(\"Maravilha! Vamos criar o post sobre novidades em {topico}\")\n",
        "\n",
        "  lancamentos_buscados = agente_buscador(topico,data_de_hoje)\n",
        "  print(\"\\n--- Resultado do Agente 1 (Buscador) ---\\n\")\n",
        "  display(to_markdown(lancamentos_buscados))\n",
        "  print(\"--------------------------------------------------------------------\")\n",
        "\n",
        "  plano_de_post = agente_planejador(topico,lancamentos_buscados)\n",
        "  print(\"\\n--- Resultado do Agente 2 (Planerjador) ---\\n\")\n",
        "  display(to_markdown(plano_de_post))\n",
        "  print(\"--------------------------------------------------------------------\")\n",
        "\n",
        "  rascunho_de_post = agente_redator(topico,plano_de_post)\n",
        "  print(\"\\n--- Resultado do Agente 3 (Redator) ---\\n\")\n",
        "  display(to_markdown(rascunho_de_post))\n",
        "  print(\"--------------------------------------------------------------------\")\n",
        "\n",
        "  post_final = agente_revisor(topico,rascunho_de_post)\n",
        "  print(\"\\n--- Resultado do Agente 4 (Revisor) ---\\n\")\n",
        "  display(to_markdown(post_final))\n",
        "  print(\"--------------------------------------------------------------------\")"
      ],
      "metadata": {
        "id": "630ummxz4myx",
        "colab": {
          "base_uri": "https://localhost:8080/",
          "height": 1000
        },
        "outputId": "e48a915b-f2d6-43b2-81ba-c330f6c81473"
      },
      "execution_count": 33,
      "outputs": [
        {
          "output_type": "stream",
          "name": "stdout",
          "text": [
            "🚀 Iniciando o Sistema de Criação de Posts para Instagram com 4 Agentes 🚀\n",
            "❓ Por favor, digite o TÓPICO sobre o qual você quer criar o post de tendências: renda extra\n",
            "Maravilha! Vamos criar o post sobre novidades em {topico}\n",
            "\n",
            "--- Resultado do Agente 1 (Buscador) ---\n",
            "\n"
          ]
        },
        {
          "output_type": "display_data",
          "data": {
            "text/plain": [
              "<IPython.core.display.Markdown object>"
            ],
            "text/markdown": "> Para encontrar as formas mais relevantes e recentes de renda extra, farei algumas buscas no Google. Procurarei por notícias, artigos e discussões sobre novas oportunidades e tendências no cenário de renda extra.\n> \n> \n> Com base nas informações mais recentes e relevantes, aqui estão algumas das principais tendências e oportunidades para gerar renda extra em maio de 2025:\n> \n> 1.  **Venda de Artesanato:** Se você tem habilidades manuais, criar e vender artesanato online é uma excelente opção. A Nuvemshop destaca que essa pode ser uma ideia lucrativa, especialmente se você já tem um hobby como crochê, fabricação de sabonetes artesanais ou criação de acessórios. Plataformas como Elo7 são ótimas para vender seus produtos, e você também pode criar sua própria loja virtual.\n> 2.  **Marketing de Afiliados:** Promover produtos ou serviços de outras empresas e receber comissões por cada venda realizada através de seus links personalizados continua sendo uma forma eficiente de renda extra online. A Hostinger menciona que os ganhos podem variar de 5% a 50% das vendas, dependendo do programa de afiliados.\n> 3.  **Serviços Freelance:** Oferecer suas habilidades em áreas como design gráfico, redação, programação ou tradução em plataformas como Workana, Fiverr e 99Freelas é uma maneira flexível de trabalhar de casa e definir seus próprios horários. RealTime1 e Melhor Investimento apontam que essas plataformas oferecem uma vasta gama de oportunidades para quem possui habilidades específicas.\n> 4.  **Criação e Venda de Produtos Digitais:** A criação de produtos digitais como e-books, templates e cursos online oferece alto potencial de renda passiva. A Shopify Brasil destaca que o trabalho é feito uma vez e o produto pode ser vendido repetidamente, com margens de lucro elevadas, sem necessidade de armazenamento ou produção contínua.\n> 5.  **E-commerce e Revenda de Produtos:** Montar uma loja virtual para vender produtos de nichos específicos como cosméticos, decoração, confecção ou livros é uma ótima maneira de gerar renda extra online. A Nuvemshop e RealTime1 mencionam que a revenda de produtos no atacado também continua popular, com a possibilidade de vender em marketplaces como Mercado Livre e OLX.\n> \n> Além dessas opções, outras ideias relevantes incluem:\n> \n> *   **Aluguel de Espaços ou Produtos:** Alugar quartos, casas de temporada, ferramentas ou equipamentos através de plataformas como Airbnb e OLX.\n> *   **Serviços de Transporte e Logística:** Atuar como motorista de aplicativos como Uber e 99 ou como entregador de comida através de plataformas como iFood e Rappi.\n> *   **Consultoria Online:** Oferecer consultoria especializada em áreas como negócios, marketing, finanças ou desenvolvimento pessoal.\n> *   **Venda de Itens Usados:** Comercializar produtos usados em bom estado através de plataformas como OLX, Enjoei, Mercado Livre e Facebook Marketplace.\n> *   **Pet Sitting e Passeios com Animais:** Oferecer serviços de cuidado e passeios com animais, uma opção altamente procurada por quem ama pets.\n> *   **Gestão de Redes Sociais:** Oferecer serviços de criação de conteúdo, agendamento de posts e interação com seguidores para pequenas empresas e autônomos.\n> \n> Essas são algumas das maneiras mais promissoras de gerar renda extra em 2025, aproveitando as tendências do mercado e as novas plataformas digitais. Avalie suas habilidades, recursos e interesses para identificar as opções mais adequadas ao seu perfil e começar a aumentar sua renda.\n> \n"
          },
          "metadata": {}
        },
        {
          "output_type": "stream",
          "name": "stdout",
          "text": [
            "--------------------------------------------------------------------\n",
            "\n",
            "--- Resultado do Agente 2 (Planerjador) ---\n",
            "\n"
          ]
        },
        {
          "output_type": "display_data",
          "data": {
            "text/plain": [
              "<IPython.core.display.Markdown object>"
            ],
            "text/markdown": "> Okay, com base nas informações fornecidas, vou criar um plano de conteúdo para posts sobre renda extra.\n> \n> **Primeiramente, farei algumas pesquisas adicionais para aprofundar meu conhecimento sobre cada tema:**\n> \n> \n> Com base nas minhas pesquisas e nas informações que você me forneceu, o tema mais relevante para um post sobre renda extra em maio de 2025 é:\n> \n> **Serviços Freelance: A Flexibilidade que Gera Renda Extra**\n> \n> **Pontos Relevantes:**\n> \n> *   **Alta Demanda:** Empresas e indivíduos estão constantemente buscando freelancers para diversas tarefas, desde design gráfico até redação e programação.\n> *   **Flexibilidade:** Permite trabalhar de casa, definir horários e escolher projetos que se encaixem em suas habilidades e interesses.\n> *   **Variedade de Habilidades:** Há espaço para praticamente qualquer habilidade que possa ser oferecida online.\n> *   **Plataformas:** Workana, Fiverr, 99Freelas, Upwork, Toptal e outras oferecem um mercado vasto de oportunidades.\n> *   **Tendências:** Marketing digital freelance, consultoria online e criação de conteúdo estão em alta.\n> *   **Importância de um bom perfil:** É essencial construir um perfil atraente e detalhado nas plataformas, demonstrando suas habilidades e experiências.\n> *   **Construção de reputação:** Começar com projetos menores para construir uma reputação sólida e receber avaliações positivas.\n> *   **Gerenciamento de tempo e finanças:** É importante estabelecer uma rotina de trabalho e reservar parte dos ganhos para possíveis impostos e períodos de menor demanda.\n> *   **Marketing pessoal:** Promover seus serviços em redes sociais e criar um portfólio online para atrair mais clientes.\n> *   **Especialização:** Focar em um nicho específico para se destacar como especialista e atrair clientes mais qualificados.\n> \n> **Plano para o Post:**\n> \n> 1.  **Título:** \"Serviços Freelance: A Flexibilidade que Gera Renda Extra em 2025\"\n> 2.  **Introdução:**\n>     *   Destaque a crescente busca por renda extra e a popularidade dos serviços freelance.\n>     *   Mencione a flexibilidade e variedade de oportunidades que o trabalho freelance oferece.\n> 3.  **O que são Serviços Freelance?**\n>     *   Explique o conceito de trabalho freelance e como ele se encaixa no cenário atual.\n>     *   Destaque a diferença entre ser freelancer e ter um emprego tradicional.\n> 4.  **Habilidades em Demanda:**\n>     *   Liste as habilidades mais procuradas no mercado freelance em 2025:\n>         *   Design Gráfico\n>         *   Redação e Edição de Conteúdo\n>         *   Programação e Desenvolvimento Web\n>         *   Marketing Digital (SEO, Redes Sociais, etc.)\n>         *   Tradução\n>         *   Consultoria Online\n>         *   Assistência Virtual\n>     *   Incentive os leitores a identificarem suas próprias habilidades e como elas podem ser oferecidas como serviços.\n> 5.  **Plataformas Freelance:**\n>     *   Apresente as principais plataformas para encontrar trabalho freelance:\n>         *   Workana\n>         *   Fiverr\n>         *   99Freelas\n>         *   Upwork\n>     *   Destaque as características e vantagens de cada plataforma.\n>     *   Forneça dicas sobre como criar um perfil atraente e eficaz em cada plataforma.\n> 6.  **Dicas para Iniciantes:**\n>     *   Construir um portfólio online com seus melhores trabalhos.\n>     *   Começar com projetos menores para ganhar experiência e avaliações positivas.\n>     *   Definir preços competitivos e aumentar gradualmente conforme sua reputação cresce.\n>     *   Gerenciar seu tempo e finanças de forma eficiente.\n>     *   Comunicar-se de forma clara e profissional com os clientes.\n> 7.  **Tendências em Serviços Freelance:**\n>     *   Marketing digital e criação de conteúdo para redes sociais\n>     *   Consultoria online em diversas áreas (negócios, finanças, etc.)\n>     *   Desenvolvimento de aplicativos e soluções web personalizadas\n>     *   Serviços de tutoria e ensino online\n> 8.  **Marketing Pessoal para Freelancers:**\n>     *   Promover seus serviços em redes sociais (LinkedIn, Instagram, etc.).\n>     *   Criar um site ou blog para exibir seu trabalho e atrair clientes.\n>     *   Participar de grupos e fóruns online relacionados à sua área de atuação.\n>     *   Pedir recomendações de clientes satisfeitos.\n> 9.  **Histórias de Sucesso:**\n>     *   Compartilhe exemplos de freelancers que alcançaram sucesso e renda extra significativa através de seus serviços.\n>     *   Destaque os benefícios de ter flexibilidade e autonomia no trabalho.\n> 10. **Conclusão:**\n>     *   Reforce a ideia de que os serviços freelance são uma ótima opção para quem busca renda extra em 2025.\n>     *   Incentive os leitores a explorarem as plataformas e começarem a oferecer suas habilidades.\n>     *   Deixe uma mensagem inspiradora sobre a possibilidade de transformar suas paixões em fonte de renda.\n> \n> Este plano fornecerá um post informativo e inspirador, incentivando os leitores a explorarem o mundo dos serviços freelance como uma forma flexível e acessível de gerar renda extra.\n> \n"
          },
          "metadata": {}
        },
        {
          "output_type": "stream",
          "name": "stdout",
          "text": [
            "--------------------------------------------------------------------\n",
            "\n",
            "--- Resultado do Agente 3 (Redator) ---\n",
            "\n"
          ]
        },
        {
          "output_type": "display_data",
          "data": {
            "text/plain": [
              "<IPython.core.display.Markdown object>"
            ],
            "text/markdown": "> 🚀 Quer uma grana extra com a flexibilidade que você sempre sonhou? Em 2025, os serviços freelance estão BOMBANDO! 💥\n> \n> 💻 De design gráfico a programação, passando por redação e marketing digital, a demanda por freelancers está altíssima. E o melhor? Você faz seus horários e escolhe os projetos que mais te interessam. 😉\n> \n> 💰 Plataformas como Workana, Fiverr e Upwork estão cheias de oportunidades esperando por você. Quer saber como se destacar?\n> \n> ✨ Dica de ouro: crie um perfil TOP, mostre suas habilidades e comece com projetos menores pra construir sua reputação. E não esqueça de divulgar seu trabalho nas redes sociais! 😉\n> \n> 👉 Tá esperando o quê? Transforme suas habilidades em renda extra e conquiste a liberdade que só o trabalho freelance pode te dar! 🚀\n> \n> #RendaExtra #Freelancer #Alura #TrabalhoRemoto\n> \n"
          },
          "metadata": {}
        },
        {
          "output_type": "stream",
          "name": "stdout",
          "text": [
            "--------------------------------------------------------------------\n",
            "\n",
            "--- Resultado do Agente 4 (Revisor) ---\n",
            "\n"
          ]
        },
        {
          "output_type": "display_data",
          "data": {
            "text/plain": [
              "<IPython.core.display.Markdown object>"
            ],
            "text/markdown": "> O rascunho está bom, mas podemos deixá-lo ainda mais engajador e otimizado para o público do Instagram. Aqui estão algumas sugestões:\n> \n> *   **Emojis:** Usar emojis é ótimo, mas podemos variar um pouco para não sobrecarregar o texto.\n> *   **Chamada para Ação (CTA):** Podemos adicionar uma pergunta direta para incentivar o engajamento nos comentários.\n> *   **Hashtags:** Adicionar hashtags mais específicas pode aumentar o alcance do post.\n> \n> **Sugestão de versão revisada:**\n> \n> 🚀 Quer uma grana extra com a flexibilidade que você sempre quis? ✨ Em 2024, os serviços freelance estão bombando!\n> \n> 💻 De design gráfico a programação, passando por redação e marketing digital, a demanda por freelancers está altíssima. E o melhor? Você faz seus horários e escolhe os projetos que mais te interessam. 😉\n> \n> 💰 Plataformas como Workana, Fiverr e Upwork estão cheias de oportunidades esperando por você. Quer saber como se destacar?\n> \n> ✨ Dica de ouro: crie um perfil TOP, mostre suas habilidades e comece com projetos menores pra construir sua reputação. E não esqueça de divulgar seu trabalho nas redes sociais!\n> \n> Qual habilidade você quer transformar em renda extra ainda hoje? 👇 Compartilhe aqui nos comentários!\n> \n> \\#RendaExtra \\#Freelancer \\#Alura \\#TrabalhoRemoto \\#Oportunidades \\#HomeOffice \\#DesenvolvimentoProfissional\n> \n"
          },
          "metadata": {}
        },
        {
          "output_type": "stream",
          "name": "stdout",
          "text": [
            "--------------------------------------------------------------------\n"
          ]
        }
      ]
    }
  ]
}